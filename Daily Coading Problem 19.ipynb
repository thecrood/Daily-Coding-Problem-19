{
 "cells": [
  {
   "cell_type": "markdown",
   "id": "ec11d0e2",
   "metadata": {},
   "source": [
    "# Daily Coading Problem 19"
   ]
  },
  {
   "cell_type": "raw",
   "id": "b476b2f6",
   "metadata": {},
   "source": [
    "This problem was asked by Facebook.\n",
    "\n",
    "A builder is looking to build a row of N houses that can be of K different colors. He has a goal of minimizing cost while ensuring that no two neighboring houses are of the same color.\n",
    "\n",
    "Given an N by K matrix where the nth row and kth column represents the cost to build the nth house with kth color, return the minimum cost which achieves this goal."
   ]
  },
  {
   "cell_type": "markdown",
   "id": "f6cb8d3d",
   "metadata": {},
   "source": [
    "# Solution\n",
    "\n",
    "The brute force solution here would be to generate all possible combinations of houses and colors, filter out invalid combinations, and keep track of the lowest cost seen. This would take O(N^K) time.\n",
    "\n",
    "We can solve this problem faster using dynamic programming. We can maintain a matrix cache where every entry [i][j] represents the minimum cost of painting house i the color j, as well as painting every house < i. We can calculate this by looking at the minimum cost of painting each house < i - 1, and painting house i - 1 any color except j, since that would break our constraint. We'll initialize the first row with zeroes to start. Then, we just have to look at the smallest value in the last row of our cache, since that represents the minimum cost of painting every house."
   ]
  },
  {
   "cell_type": "code",
   "execution_count": 1,
   "id": "6835f66a",
   "metadata": {},
   "outputs": [],
   "source": [
    "def build_houses(matrix):\n",
    "    n = len(matrix)\n",
    "    k = len(matrix[0])\n",
    "    solution_matrix = [[0] * k]\n",
    "\n",
    "    # Solution matrix: matrix[i][j] represents the minimum cost to build house i with color j.\n",
    "    for r, row in enumerate(matrix):\n",
    "        row_cost = []\n",
    "        for c, val in enumerate(row):\n",
    "            row_cost.append(min(solution_matrix[r][i] for i in range(k) if i != c) + val)\n",
    "        solution_matrix.append(row_cost)\n",
    "    return min(solution_matrix[-1])"
   ]
  },
  {
   "cell_type": "markdown",
   "id": "bfb0ed69",
   "metadata": {},
   "source": [
    "This runs in O(N K^2) time and O(N K) space. Can we do even better than this?\n",
    "\n",
    "First off, notice that we're only ever looking at the last row when computing the next row's cost. That suggests that we only need to keep track of one array of size K instead of a whole matrix of size N * K:"
   ]
  },
  {
   "cell_type": "code",
   "execution_count": 2,
   "id": "26bd1bbd",
   "metadata": {},
   "outputs": [],
   "source": [
    "def build_houses(matrix):\n",
    "    k = len(matrix[0])\n",
    "    soln_row = [0] * k\n",
    "\n",
    "    for r, row in enumerate(matrix):\n",
    "        new_row = []\n",
    "        for c, val in enumerate(row):\n",
    "            new_row.append(min(soln_row[i] for i in range(k) if i != c) + val)\n",
    "        soln_row = new_row\n",
    "    return min(soln_row)"
   ]
  },
  {
   "cell_type": "markdown",
   "id": "87f60264",
   "metadata": {},
   "source": [
    "Now we're only using O(K) space! Can we improve this any more?\n",
    "\n",
    "Hold on a second. When we're looking at the previous row's total cost, it looks like we're almost computing the same thing each time: the minimum of the previous row that isn't the current index.\n",
    "\n",
    "For every element that isn't that index, it will be the same value. When it is that index, it will be the second-smallest value.\n",
    "\n",
    "Now, armed with this insight, we only need to keep track of three variables:\n",
    "\n",
    " * The lowest cost of the current row\n",
    " * The index of the lowest cost\n",
    " * The second lowest cost\n",
    "\n",
    "Then, when looking at the value at each row, we only need to do the following:\n",
    "\n",
    " * Check if the index is the index of the lowest cost of the previous row. If it is, then we can't use this color    we'll use the second lowest cost instead. Otherwise, use the lowest cost of the previous row\n",
    " * Calculate the minimum cost if we painted this house this particular color\n",
    " * Update our new lowest cost/index or second lowest cost if appropriate\n",
    "\n",
    "Now we'll always have our lowest cost in a variable, and once we've gone through the matrix we can just return that.\n",
    "\n"
   ]
  },
  {
   "cell_type": "code",
   "execution_count": 3,
   "id": "0f487561",
   "metadata": {},
   "outputs": [],
   "source": [
    "from math import inf\n",
    "\n",
    "def build_houses(matrix):\n",
    "    lowest_cost, lowest_cost_index = 0, -1\n",
    "    second_lowest_cost = 0\n",
    "\n",
    "    for r, row in enumerate(matrix):\n",
    "        new_lowest_cost, new_lowest_cost_index = inf, -1\n",
    "        new_second_lowest_cost = inf\n",
    "        for c, val in enumerate(row):\n",
    "            prev_lowest_cost = second_lowest_cost if c == lowest_cost_index else lowest_cost\n",
    "            cost = prev_lowest_cost + val\n",
    "            if cost < new_lowest_cost:\n",
    "                new_second_lowest_cost = new_lowest_cost\n",
    "                new_lowest_cost, new_lowest_cost_index = cost, c\n",
    "            elif cost < new_second_lowest_cost:\n",
    "                new_second_lowest_cost = cost\n",
    "        lowest_cost = new_lowest_cost\n",
    "        lowest_cost_index = new_lowest_cost_index\n",
    "        second_lowest_cost = new_second_lowest_cost\n",
    "\n",
    "    return lowest_cost"
   ]
  },
  {
   "cell_type": "markdown",
   "id": "21d15203",
   "metadata": {},
   "source": [
    "Now the runtime is only O(N * K) and the space complexity is O(1) - constant, since we keep track of only three variables!\n",
    "\n"
   ]
  }
 ],
 "metadata": {
  "kernelspec": {
   "display_name": "Python 3 (ipykernel)",
   "language": "python",
   "name": "python3"
  },
  "language_info": {
   "codemirror_mode": {
    "name": "ipython",
    "version": 3
   },
   "file_extension": ".py",
   "mimetype": "text/x-python",
   "name": "python",
   "nbconvert_exporter": "python",
   "pygments_lexer": "ipython3",
   "version": "3.8.10"
  }
 },
 "nbformat": 4,
 "nbformat_minor": 5
}
